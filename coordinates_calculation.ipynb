{
 "cells": [
  {
   "cell_type": "markdown",
   "metadata": {},
   "source": [
    "# Calculation of image grid size\n",
    "\n",
    "The google maps API takes a zoom value, the longitutude and lattitute. When making the image grid, we need to know by how much the longitude and lattitudes should be increased to make sure they don't overlap or have spaces between them.\n",
    "\n",
    "The final calculation gives:\n",
    "\n",
    "Angle from E-W 0.0034332275390625\n",
    "Angle from N-S 0.0017166137696733585\n"
   ]
  },
  {
   "cell_type": "code",
   "execution_count": 11,
   "metadata": {},
   "outputs": [
    {
     "data": {
      "text/plain": [
       "'\\n>>> import MercatorProjection\\n>>> centerLat = 49.141404\\n>>> centerLon = -121.960988\\n>>> zoom = 10\\n>>> mapWidth = 640\\n>>> mapHeight = 640\\n>>> centerPoint = MercatorProjection.G_LatLng(centerLat, centerLon)\\n>>> corners = MercatorProjection.getCorners(centerPoint, zoom, mapWidth, mapHeight)\\n>>> corners\\n{\\'E\\': -65.710988,\\n\\'N\\': 74.11120692972199,\\n\\'S\\': 0.333879313530149,\\n\\'W\\': -178.210988}\\n>>> mapURL = \"http://maps.googleapis.com/maps/api/staticmap?center=%f,%f&zoom=%d&size=%dx%d&scale=2&maptype=roadmap&sensor=false\"%(centerLat,centerLon,zoom,mapWidth,mapHeight)\\n>>> mapURL\\nhttp://maps.googleapis.com/maps/api/staticmap?center=49.141404,-121.960988&zoom=10&size=640x640&scale=2&maptype=roadmap&sensor=false\\'\\n    '"
      ]
     },
     "execution_count": 11,
     "metadata": {},
     "output_type": "execute_result"
    }
   ],
   "source": [
    "# from https://stackoverflow.com/questions/12507274/how-to-get-bounds-of-a-google-static-map\n",
    "\n",
    "from __future__ import division\n",
    "import math\n",
    "MERCATOR_RANGE = 256\n",
    "\n",
    "def  bound(value, opt_min, opt_max):\n",
    "  if (opt_min != None): \n",
    "    value = max(value, opt_min)\n",
    "  if (opt_max != None): \n",
    "    value = min(value, opt_max)\n",
    "  return value\n",
    "\n",
    "\n",
    "def  degreesToRadians(deg) :\n",
    "  return deg * (math.pi / 180)\n",
    "\n",
    "\n",
    "def  radiansToDegrees(rad) :\n",
    "  return rad / (math.pi / 180)\n",
    "\n",
    "\n",
    "class G_Point :\n",
    "    def __init__(self,x=0, y=0):\n",
    "        self.x = x\n",
    "        self.y = y\n",
    "\n",
    "class G_LatLng :\n",
    "    def __init__(self,lt, ln):\n",
    "        self.lat = lt\n",
    "        self.lng = ln\n",
    "\n",
    "class MercatorProjection :\n",
    "    def __init__(self) :\n",
    "      self.pixelOrigin_ =  G_Point( MERCATOR_RANGE / 2, MERCATOR_RANGE / 2)\n",
    "      self.pixelsPerLonDegree_ = MERCATOR_RANGE / 360\n",
    "      self.pixelsPerLonRadian_ = MERCATOR_RANGE / (2 * math.pi)\n",
    "\n",
    "\n",
    "    def fromLatLngToPoint(self, latLng, opt_point=None) :\n",
    "      point = opt_point if opt_point is not None else G_Point(0,0)\n",
    "      origin = self.pixelOrigin_\n",
    "      point.x = origin.x + latLng.lng * self.pixelsPerLonDegree_\n",
    "      # NOTE(appleton): Truncating to 0.9999 effectively limits latitude to\n",
    "      # 89.189.  This is about a third of a tile past the edge of the world tile.\n",
    "      siny = bound(math.sin(degreesToRadians(latLng.lat)), -0.9999, 0.9999)\n",
    "      point.y = origin.y + 0.5 * math.log((1 + siny) / (1 - siny)) * -     self.pixelsPerLonRadian_\n",
    "      return point\n",
    "\n",
    "\n",
    "    def fromPointToLatLng(self,point) :\n",
    "          origin = self.pixelOrigin_\n",
    "          lng = (point.x - origin.x) / self.pixelsPerLonDegree_\n",
    "          latRadians = (point.y - origin.y) / -self.pixelsPerLonRadian_\n",
    "          lat = radiansToDegrees(2 * math.atan(math.exp(latRadians)) - math.pi / 2)\n",
    "          return G_LatLng(lat, lng)\n",
    "\n",
    "#pixelCoordinate = worldCoordinate * pow(2,zoomLevel)\n",
    "\n",
    "def getCorners(center, zoom, mapWidth, mapHeight):\n",
    "    scale = 2**zoom\n",
    "    proj = MercatorProjection()\n",
    "    centerPx = proj.fromLatLngToPoint(center)\n",
    "    SWPoint = G_Point(centerPx.x-(mapWidth/2)/scale, centerPx.y+(mapHeight/2)/scale)\n",
    "    SWLatLon = proj.fromPointToLatLng(SWPoint)\n",
    "    NEPoint = G_Point(centerPx.x+(mapWidth/2)/scale, centerPx.y-(mapHeight/2)/scale)\n",
    "    NELatLon = proj.fromPointToLatLng(NEPoint)\n",
    "    return {\n",
    "        'N' : NELatLon.lat,\n",
    "        'E' : NELatLon.lng,\n",
    "        'S' : SWLatLon.lat,\n",
    "        'W' : SWLatLon.lng,\n",
    "    }\n",
    "\n",
    "\n",
    "\"\"\"\n",
    ">>> import MercatorProjection\n",
    ">>> centerLat = 49.141404\n",
    ">>> centerLon = -121.960988\n",
    ">>> zoom = 10\n",
    ">>> mapWidth = 640\n",
    ">>> mapHeight = 640\n",
    ">>> centerPoint = MercatorProjection.G_LatLng(centerLat, centerLon)\n",
    ">>> corners = MercatorProjection.getCorners(centerPoint, zoom, mapWidth, mapHeight)\n",
    ">>> corners\n",
    "{'E': -65.710988,\n",
    "'N': 74.11120692972199,\n",
    "'S': 0.333879313530149,\n",
    "'W': -178.210988}\n",
    ">>> mapURL = \"http://maps.googleapis.com/maps/api/staticmap?center=%f,%f&zoom=%d&size=%dx%d&scale=2&maptype=roadmap&sensor=false\"%(centerLat,centerLon,zoom,mapWidth,mapHeight)\n",
    ">>> mapURL\n",
    "http://maps.googleapis.com/maps/api/staticmap?center=49.141404,-121.960988&zoom=10&size=640x640&scale=2&maptype=roadmap&sensor=false'\n",
    "    \"\"\""
   ]
  },
  {
   "cell_type": "code",
   "execution_count": 23,
   "metadata": {},
   "outputs": [
    {
     "name": "stdout",
     "output_type": "stream",
     "text": [
      "Angle from E-W 0.00171661376953125\n",
      "Angle from N-S 0.0008583068847869413\n"
     ]
    }
   ],
   "source": [
    "coords_start = (59.93717029103388, 10.807871254728301)\n",
    "\n",
    "coords_start = (60 , 15)\n",
    "centerPoint = G_LatLng(coords_start[0], coords_start[1])\n",
    "\n",
    "corners = getCorners(centerPoint, 19, 640, 640)\n",
    "\n",
    "angle_E_W = corners['E'] - corners['W']\n",
    "angle_N_S = corners['N'] - corners['S']\n",
    "\n",
    "print(f'Angle from E-W {angle_E_W}')\n",
    "print(f'Angle from N-S {angle_N_S}')\n"
   ]
  },
  {
   "cell_type": "code",
   "execution_count": 25,
   "metadata": {},
   "outputs": [
    {
     "ename": "NameError",
     "evalue": "name 'Math' is not defined",
     "output_type": "error",
     "traceback": [
      "\u001b[1;31m---------------------------------------------------------------------------\u001b[0m",
      "\u001b[1;31mNameError\u001b[0m                                 Traceback (most recent call last)",
      "Input \u001b[1;32mIn [25]\u001b[0m, in \u001b[0;36m<module>\u001b[1;34m\u001b[0m\n\u001b[0;32m      5\u001b[0m zoom \u001b[38;5;241m=\u001b[39m \u001b[38;5;241m19\u001b[39m\n\u001b[0;32m      6\u001b[0m lattitude \u001b[38;5;241m=\u001b[39m \u001b[38;5;241m10.7\u001b[39m\n\u001b[1;32m----> 8\u001b[0m metersPerPx \u001b[38;5;241m=\u001b[39m \u001b[38;5;241m156543.03392\u001b[39m \u001b[38;5;241m*\u001b[39m math\u001b[38;5;241m.\u001b[39mcos(lattitude \u001b[38;5;241m*\u001b[39m \u001b[43mMath\u001b[49m\u001b[38;5;241m.\u001b[39mPI \u001b[38;5;241m/\u001b[39m \u001b[38;5;241m180\u001b[39m) \u001b[38;5;241m/\u001b[39m Math\u001b[38;5;241m.\u001b[39mpow(\u001b[38;5;241m2\u001b[39m, zoom)\n",
      "\u001b[1;31mNameError\u001b[0m: name 'Math' is not defined"
     ]
    }
   ],
   "source": [
    "# get dimensions of images in m\n",
    "# from  https://gis.stackexchange.com/questions/7430/what-ratio-scales-do-google-maps-zoom-levels-correspond-to\n",
    "import math\n",
    "\n",
    "zoom = 19\n",
    "lattitude = 10.7\n",
    "\n",
    "metersPerPx = 156543.03392 * math.cos(lattitude * math.PI / 180) / math.pow(2, zoom)\n"
   ]
  }
 ],
 "metadata": {
  "interpreter": {
   "hash": "4b6af464ae8f9c2f02515400240273a0d9c5b125718af8a916d868edf2348815"
  },
  "kernelspec": {
   "display_name": "Python 3.9.7 ('yolo5env')",
   "language": "python",
   "name": "python3"
  },
  "language_info": {
   "codemirror_mode": {
    "name": "ipython",
    "version": 3
   },
   "file_extension": ".py",
   "mimetype": "text/x-python",
   "name": "python",
   "nbconvert_exporter": "python",
   "pygments_lexer": "ipython3",
   "version": "3.9.7"
  },
  "orig_nbformat": 4
 },
 "nbformat": 4,
 "nbformat_minor": 2
}
