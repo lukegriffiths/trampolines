{
 "cells": [
  {
   "cell_type": "code",
   "execution_count": 19,
   "metadata": {},
   "outputs": [],
   "source": [
    "import shutil\n",
    "import os\n",
    "from sklearn import model_selection\n",
    "import random\n",
    "from tqdm import tqdm"
   ]
  },
  {
   "cell_type": "code",
   "execution_count": 31,
   "metadata": {},
   "outputs": [],
   "source": [
    "# the folder where the images collected using `get_images.py` have been saved\n",
    "DATAPATH = \"images/data_2022-02-13_Oslo_Center\""
   ]
  },
  {
   "cell_type": "markdown",
   "metadata": {},
   "source": [
    "## Training data\n",
    "\n",
    "Here we take a subset of images to be labelled and later form the training and testing sets. "
   ]
  },
  {
   "cell_type": "code",
   "execution_count": 30,
   "metadata": {},
   "outputs": [
    {
     "name": "stdout",
     "output_type": "stream",
     "text": [
      "images/data_2022-02-13_Oslo_Center_labelled is created!\n"
     ]
    },
    {
     "name": "stderr",
     "output_type": "stream",
     "text": [
      "100%|██████████| 250/250 [00:00<00:00, 336.91it/s]\n"
     ]
    }
   ],
   "source": [
    "image_files = [f for f in os.listdir(DATAPATH) if f.endswith('.jpg')]\n",
    "\n",
    "nb_images = 250 # the number of images to copy to another folder for labelling\n",
    "\n",
    "image_files_to_label = random.sample(image_files, nb_images) \n",
    "\n",
    "output_path = DATAPATH + '_labelled'\n",
    "\n",
    "# make the output directory if is doesn't already exist\n",
    "isExist = os.path.exists(output_path)\n",
    "if not isExist:\n",
    "    # Create a new directory because it does not exist \n",
    "    os.makedirs(output_path)\n",
    "    print(f\"{output_path} is created!\")\n",
    "\n",
    "    # copy image subset to a folder for labelling\n",
    "    for f in tqdm(image_files_to_label):\n",
    "        shutil.copyfile(DATAPATH + '/' + f, output_path + '/' + f)"
   ]
  },
  {
   "cell_type": "markdown",
   "metadata": {},
   "source": [
    "## Test-train split\n",
    "\n",
    "Once the new subset of images has been labelled (I used https://github.com/tzutalin/labelImg to label the data according to the YOLO formatting standard) they need to be split up into training and testing sets."
   ]
  },
  {
   "cell_type": "code",
   "execution_count": 38,
   "metadata": {},
   "outputs": [],
   "source": [
    "def copy_files(files, output_folder_path, type=\"train\"):\n",
    "    \"\"\"takes all file paths of the text files containing labels and places \n",
    "    them in the desired folder based on whether they are part of the test or train set\n",
    "\n",
    "    Args:\n",
    "        files (list of str): list of filepaths to images labels\n",
    "        type (str, optional): string. Defaults to \"train\".\n",
    "    \"\"\"\n",
    "    for f in files:\n",
    "        # copy over the text files containing the labels\n",
    "        try:\n",
    "            shutil.copyfile(output_folder_path + '/' + f, f'./data/labels/{type}/{f}')\n",
    "        except:\n",
    "            print(f\"Could not copy {f}\")\n",
    "\n",
    "        # copy over the images \n",
    "        image_f = f[:-4] + '.jpg'\n",
    "        try:\n",
    "            shutil.copyfile(output_folder_path + '/' +  image_f, f'./data/images/{type}/{image_f}')\n",
    "        except:\n",
    "            print(f\"Could not copy {f}\")"
   ]
  },
  {
   "cell_type": "code",
   "execution_count": 41,
   "metadata": {},
   "outputs": [
    {
     "name": "stdout",
     "output_type": "stream",
     "text": [
      "44 images for training.\n",
      "12 images for testing.\n",
      "Could not copy classes.txt\n"
     ]
    }
   ],
   "source": [
    "text_files = [f for f in os.listdir(output_path) if f.endswith('.txt')]\n",
    "\n",
    "train, test = model_selection.train_test_split(text_files, test_size=0.2, random_state=42, shuffle=True)\n",
    "\n",
    "print(f\"{len(train)} images for training.\")\n",
    "print(f\"{len(test)} images for testing.\")\n",
    "\n",
    "copy_files(train, output_path, type='train')\n",
    "copy_files(test, output_path, type='validation')"
   ]
  }
 ],
 "metadata": {
  "kernelspec": {
   "display_name": "Python 3.9.7 ('yolo5env')",
   "language": "python",
   "name": "python3"
  },
  "language_info": {
   "codemirror_mode": {
    "name": "ipython",
    "version": 3
   },
   "file_extension": ".py",
   "mimetype": "text/x-python",
   "name": "python",
   "nbconvert_exporter": "python",
   "pygments_lexer": "ipython3",
   "version": "3.9.7"
  },
  "orig_nbformat": 4,
  "vscode": {
   "interpreter": {
    "hash": "d0954b453af2fb7481ba775f0977706ba45daa20c588fd86144a3f6885ec65f4"
   }
  }
 },
 "nbformat": 4,
 "nbformat_minor": 2
}
